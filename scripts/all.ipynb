{
 "cells": [
  {
   "cell_type": "markdown",
   "metadata": {},
   "source": [
    "## Installation"
   ]
  },
  {
   "cell_type": "code",
   "execution_count": null,
   "metadata": {},
   "outputs": [],
   "source": [
    "%pip install -e ."
   ]
  },
  {
   "cell_type": "markdown",
   "metadata": {},
   "source": [
    "## Continuous Integration"
   ]
  },
  {
   "cell_type": "markdown",
   "metadata": {},
   "source": [
    "### Test Datapacks"
   ]
  },
  {
   "cell_type": "code",
   "execution_count": null,
   "metadata": {},
   "outputs": [],
   "source": [
    "import definitions\n",
    "import packtest\n",
    "\n",
    "packtest.run(definitions.MC_VERSION);"
   ]
  },
  {
   "cell_type": "markdown",
   "metadata": {},
   "source": [
    "### Check Function Headers"
   ]
  },
  {
   "cell_type": "code",
   "execution_count": null,
   "metadata": {},
   "outputs": [],
   "source": [
    "from checks.function_headers import check\n",
    "from files_provider.files_provider import FilesProvider\n",
    "\n",
    "check(FilesProvider().get_not_upstreamed_files().only_dp_artifacts().only_from_main_datapacks().remove_minecraft_namespaces().get_functions());"
   ]
  },
  {
   "cell_type": "markdown",
   "metadata": {},
   "source": [
    "### Check Feature Tag"
   ]
  },
  {
   "cell_type": "code",
   "execution_count": null,
   "metadata": {},
   "outputs": [],
   "source": [
    "from checks.feature_tag import check\n",
    "from files_provider.files_provider import FilesProvider\n",
    "\n",
    "check(FilesProvider().get_not_upstreamed_files().only_dp_artifacts().only_from_main_datapacks().remove_minecraft_namespaces().get_features());"
   ]
  },
  {
   "cell_type": "markdown",
   "metadata": {},
   "source": [
    "### Check Module Metadata File"
   ]
  },
  {
   "cell_type": "code",
   "execution_count": null,
   "metadata": {},
   "outputs": [],
   "source": [
    "from checks.module_metadata_file import check\n",
    "from files_provider.files_provider import FilesProvider\n",
    "\n",
    "check(FilesProvider().get_not_upstreamed_files().only_dp_artifacts().only_from_main_datapacks().remove_minecraft_namespaces().get_modules().get());"
   ]
  },
  {
   "cell_type": "markdown",
   "metadata": {},
   "source": [
    "### Check Generated Metadata"
   ]
  },
  {
   "cell_type": "code",
   "execution_count": null,
   "metadata": {},
   "outputs": [],
   "source": [
    "from checks.generated_metadata import check\n",
    "from files_provider.files_provider import FilesProvider\n",
    "\n",
    "check(FilesProvider().get_not_upstreamed_files().only_dp_artifacts().only_from_main_datapacks().remove_minecraft_namespaces().get_modules());"
   ]
  },
  {
   "cell_type": "markdown",
   "metadata": {},
   "source": [
    "\n",
    "## Generators"
   ]
  },
  {
   "cell_type": "markdown",
   "metadata": {},
   "source": [
    "### Features"
   ]
  },
  {
   "cell_type": "code",
   "execution_count": null,
   "metadata": {},
   "outputs": [],
   "source": [
    "import definitions\n",
    "import generators\n",
    "\n",
    "generators.biome.generate(definitions.MC_VERSION)\n",
    "generators.block.generate(definitions.MC_VERSION)"
   ]
  },
  {
   "cell_type": "markdown",
   "metadata": {},
   "source": [
    "### Metadata"
   ]
  },
  {
   "cell_type": "code",
   "execution_count": 1,
   "metadata": {},
   "outputs": [
    {
     "name": "stdout",
     "output_type": "stream",
     "text": [
      "⏳ Checking metadata files…\u001b[0m\n",
      "   \u001b[38;5;3mMetadata file for module 'datapacks\\Bookshelf\\data\\bs.biome' is missing optional key 'icon'. You should consider adding it.\u001b[0m\n",
      "   \u001b[38;5;3mMetadata file for module 'datapacks\\Bookshelf\\data\\bs.bitwise' is missing optional key 'icon'. You should consider adding it.\u001b[0m\n",
      "   \u001b[38;5;3mMetadata file for module 'datapacks\\Bookshelf\\data\\bs.block' is missing optional key 'icon'. You should consider adding it.\u001b[0m\n",
      "   \u001b[38;5;3mMetadata file for module 'datapacks\\Bookshelf\\data\\bs.color' is missing optional key 'icon'. You should consider adding it.\u001b[0m\n",
      "   \u001b[38;5;3mMetadata file for module 'datapacks\\Bookshelf\\data\\bs.health' is missing optional key 'icon'. You should consider adding it.\u001b[0m\n",
      "   \u001b[38;5;3mMetadata file for module 'datapacks\\Bookshelf\\data\\bs.hitbox' is missing optional key 'icon'. You should consider adding it.\u001b[0m\n",
      "   \u001b[38;5;3mMetadata file for module 'datapacks\\Bookshelf\\data\\bs.id' is missing optional key 'icon'. You should consider adding it.\u001b[0m\n",
      "   \u001b[38;5;3mMetadata file for module 'datapacks\\Bookshelf\\data\\bs.interaction' is missing optional key 'icon'. You should consider adding it.\u001b[0m\n",
      "   \u001b[38;5;3mMetadata file for module 'datapacks\\Bookshelf\\data\\bs.link' is missing optional key 'icon'. You should consider adding it.\u001b[0m\n",
      "   \u001b[38;5;3mMetadata file for module 'datapacks\\Bookshelf\\data\\bs.math' is missing optional key 'icon'. You should consider adding it.\u001b[0m\n",
      "   \u001b[38;5;3mMetadata file for module 'datapacks\\Bookshelf\\data\\bs.move' is missing optional key 'icon'. You should consider adding it.\u001b[0m\n",
      "   \u001b[38;5;3mMetadata file for module 'datapacks\\Bookshelf\\data\\bs.position' is missing optional key 'icon'. You should consider adding it.\u001b[0m\n",
      "   \u001b[38;5;3mMetadata file for module 'datapacks\\Bookshelf\\data\\bs.random' is missing optional key 'icon'. You should consider adding it.\u001b[0m\n",
      "   \u001b[38;5;3mMetadata file for module 'datapacks\\Bookshelf\\data\\bs.raycast' is missing optional key 'icon'. You should consider adding it.\u001b[0m\n",
      "   \u001b[38;5;3mMetadata file for module 'datapacks\\Bookshelf\\data\\bs.schedule' is missing optional key 'icon'. You should consider adding it.\u001b[0m\n",
      "   \u001b[38;5;3mMetadata file for module 'datapacks\\Bookshelf\\data\\bs.sidebar' is missing optional key 'icon'. You should consider adding it.\u001b[0m\n",
      "   \u001b[38;5;3mMetadata file for module 'datapacks\\Bookshelf\\data\\bs.time' is missing optional key 'icon'. You should consider adding it.\u001b[0m\n",
      "   \u001b[38;5;3mMetadata file for module 'datapacks\\Bookshelf\\data\\bs.tree' is missing optional key 'icon'. You should consider adding it.\u001b[0m\n",
      "   \u001b[38;5;3mMetadata file for module 'datapacks\\Bookshelf\\data\\bs.vector' is missing optional key 'icon'. You should consider adding it.\u001b[0m\n",
      "   \u001b[38;5;3mMetadata file for module 'datapacks\\Bookshelf\\data\\bs.view' is missing optional key 'icon'. You should consider adding it.\u001b[0m\n",
      "   \u001b[38;5;3mMetadata file for module 'datapacks\\Bookshelf\\data\\bs.weather' is missing optional key 'icon'. You should consider adding it.\u001b[0m\n",
      "   \u001b[38;5;3mMetadata file for module 'datapacks\\Bookshelf\\data\\bs.xp' is missing optional key 'icon'. You should consider adding it.\u001b[0m\n",
      "   \u001b[38;5;3mMetadata file for module 'datapacks\\Bookshelf Dev\\data\\bs.dump' is missing optional key 'icon'. You should consider adding it.\u001b[0m\n",
      "   \u001b[38;5;3mMetadata file for module 'datapacks\\Bookshelf Dev\\data\\bs.log' is missing optional key 'icon'. You should consider adding it.\u001b[0m\n",
      "⚙️ Generating metadata files…\u001b[0m\n",
      "   \u001b[38;5;2mManifest file generated!\u001b[0m\n",
      "   \u001b[38;5;2mMetadata files generated!\u001b[0m\n",
      "🔔 Done with 24 warnings.\u001b[0m\n"
     ]
    }
   ],
   "source": [
    "import generators\n",
    "\n",
    "generators.metadata.generate();"
   ]
  }
 ],
 "metadata": {
  "kernelspec": {
   "display_name": "Python 3",
   "language": "python",
   "name": "python3"
  },
  "language_info": {
   "codemirror_mode": {
    "name": "ipython",
    "version": 3
   },
   "file_extension": ".py",
   "mimetype": "text/x-python",
   "name": "python",
   "nbconvert_exporter": "python",
   "pygments_lexer": "ipython3",
   "version": "3.12.0"
  }
 },
 "nbformat": 4,
 "nbformat_minor": 2
}
