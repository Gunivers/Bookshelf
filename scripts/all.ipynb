{
 "cells": [
  {
   "cell_type": "markdown",
   "metadata": {},
   "source": [
    "## Installation"
   ]
  },
  {
   "cell_type": "code",
   "execution_count": null,
   "metadata": {},
   "outputs": [],
   "source": [
    "%pip install -e ."
   ]
  },
  {
   "cell_type": "markdown",
   "metadata": {},
   "source": [
    "## Continuous Integration"
   ]
  },
  {
   "cell_type": "markdown",
   "metadata": {},
   "source": [
    "### Test Datapacks"
   ]
  },
  {
   "cell_type": "code",
   "execution_count": null,
   "metadata": {},
   "outputs": [],
   "source": [
    "import definitions\n",
    "import packtest\n",
    "\n",
    "packtest.run(definitions.MC_VERSION);"
   ]
  },
  {
   "cell_type": "markdown",
   "metadata": {},
   "source": [
    "### Check Function Headers"
   ]
  },
  {
   "cell_type": "code",
   "execution_count": null,
   "metadata": {},
   "outputs": [],
   "source": [
    "from checks.function_headers import check\n",
    "from files_provider.files_provider import FilesProvider\n",
    "\n",
    "check(FilesProvider().get_not_upstreamed_files().only_dp_artifacts().only_from_main_datapacks().remove_minecraft_namespaces().get_functions());"
   ]
  },
  {
   "cell_type": "markdown",
   "metadata": {},
   "source": [
    "### Check Feature Tag"
   ]
  },
  {
   "cell_type": "code",
   "execution_count": null,
   "metadata": {},
   "outputs": [],
   "source": [
    "from checks.feature_tag import check\n",
    "from files_provider.files_provider import FilesProvider\n",
    "\n",
    "check(FilesProvider().get_not_upstreamed_files().only_dp_artifacts().only_from_main_datapacks().remove_minecraft_namespaces().get_features());"
   ]
  },
  {
   "cell_type": "markdown",
   "metadata": {},
   "source": [
    "### Check Module Metadata File"
   ]
  },
  {
   "cell_type": "code",
   "execution_count": null,
   "metadata": {},
   "outputs": [],
   "source": [
    "from checks.module_metadata_file import check\n",
    "from files_provider.files_provider import FilesProvider\n",
    "\n",
    "check(FilesProvider().get_not_upstreamed_files().only_dp_artifacts().only_from_main_datapacks().remove_minecraft_namespaces().get_modules().get());"
   ]
  },
  {
   "cell_type": "markdown",
   "metadata": {},
   "source": [
    "### Check Generated Metadata"
   ]
  },
  {
   "cell_type": "code",
   "execution_count": null,
   "metadata": {},
   "outputs": [],
   "source": [
    "from checks.generated_metadata import check\n",
    "from files_provider.files_provider import FilesProvider\n",
    "\n",
    "check(FilesProvider().get_not_upstreamed_files().only_dp_artifacts().only_from_main_datapacks().remove_minecraft_namespaces().get_modules());"
   ]
  },
  {
   "cell_type": "markdown",
   "metadata": {},
   "source": [
    "\n",
    "## Generators"
   ]
  },
  {
   "cell_type": "markdown",
   "metadata": {},
   "source": [
    "### Features"
   ]
  },
  {
   "cell_type": "code",
   "execution_count": null,
   "metadata": {},
   "outputs": [],
   "source": [
    "import definitions\n",
    "import generators\n",
    "\n",
    "generators.biome.generate(definitions.MC_VERSION)\n",
    "generators.block.generate(definitions.MC_VERSION)"
   ]
  },
  {
   "cell_type": "markdown",
   "metadata": {},
   "source": [
    "### Metadata"
   ]
  },
  {
   "cell_type": "code",
   "execution_count": null,
   "metadata": {},
   "outputs": [],
   "source": [
    "import generators\n",
    "\n",
    "generators.metadata.generate();"
   ]
  }
 ],
 "metadata": {
  "kernelspec": {
   "display_name": "Python 3",
   "language": "python",
   "name": "python3"
  },
  "language_info": {
   "codemirror_mode": {
    "name": "ipython",
    "version": 3
   },
   "file_extension": ".py",
   "mimetype": "text/x-python",
   "name": "python",
   "nbconvert_exporter": "python",
   "pygments_lexer": "ipython3",
   "version": "3.12.0"
  }
 },
 "nbformat": 4,
 "nbformat_minor": 2
}
