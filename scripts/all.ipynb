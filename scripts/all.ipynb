{
 "cells": [
  {
   "cell_type": "markdown",
   "metadata": {},
   "source": [
    "## Install dependencies"
   ]
  },
  {
   "cell_type": "code",
   "execution_count": null,
   "metadata": {},
   "outputs": [],
   "source": [
    "%pip install -e ."
   ]
  },
  {
   "cell_type": "markdown",
   "metadata": {},
   "source": [
    "## Run packtest"
   ]
  },
  {
   "cell_type": "code",
   "execution_count": null,
   "metadata": {},
   "outputs": [],
   "source": [
    "import packtest\n",
    "import definitions\n",
    "\n",
    "packtest.run(definitions.MC_VERSION, definitions.DATAPACKS_PATH)"
   ]
  },
  {
   "cell_type": "markdown",
   "metadata": {},
   "source": [
    "## Validate metadata"
   ]
  },
  {
   "cell_type": "markdown",
   "metadata": {},
   "source": [
    "### Check Function Header"
   ]
  },
  {
   "cell_type": "code",
   "execution_count": null,
   "metadata": {},
   "outputs": [],
   "source": [
    "from check_function_headers.check_function_headers import check\n",
    "from files_provider.files_provider import FilesProvider\n",
    "\n",
    "files = FilesProvider() \\\n",
    "        .get_all_files_not_upstreamed() \\\n",
    "        .only_dp_artifacts() \\\n",
    "        .get_features()\n",
    "\n",
    "check(files)"
   ]
  },
  {
   "cell_type": "markdown",
   "metadata": {},
   "source": [
    "### Check Metadata File"
   ]
  },
  {
   "cell_type": "code",
   "execution_count": null,
   "metadata": {},
   "outputs": [],
   "source": [
    "from files_provider.files_provider import FilesProvider\n",
    "from metadata.check_module_metadata_file import check\n",
    "\n",
    "modules = FilesProvider() \\\n",
    "        .get_all_files_not_upstreamed() \\\n",
    "        .only_dp_artifacts() \\\n",
    "        .get_modules() \\\n",
    "        .get()\n",
    "\n",
    "check(modules)"
   ]
  },
  {
   "cell_type": "markdown",
   "metadata": {},
   "source": [
    "### Check Feature Tag Metadata"
   ]
  },
  {
   "cell_type": "code",
   "execution_count": null,
   "metadata": {},
   "outputs": [],
   "source": [
    "from files_provider.files_provider import FilesProvider\n",
    "from check_feature_tag.check_feature_tag import check\n",
    "\n",
    "files = FilesProvider() \\\n",
    "        .get_all_files_not_upstreamed() \\\n",
    "        .only_dp_artifacts() \\\n",
    "        .get_features()\n",
    "\n",
    "check(files)"
   ]
  },
  {
   "cell_type": "markdown",
   "metadata": {},
   "source": [
    "### Check Generated Metadata"
   ]
  },
  {
   "cell_type": "code",
   "execution_count": null,
   "metadata": {},
   "outputs": [],
   "source": [
    "from metadata.check_generated_metadata import check\n",
    "from files_provider.files_provider import FilesProvider\n",
    "\n",
    "modules = FilesProvider() \\\n",
    "        .get_all_files_not_upstreamed() \\\n",
    "        .only_dp_artifacts() \\\n",
    "        .get_modules()\n",
    "\n",
    "check(modules)"
   ]
  },
  {
   "cell_type": "markdown",
   "metadata": {},
   "source": [
    "\n",
    "## Run generators"
   ]
  },
  {
   "cell_type": "markdown",
   "metadata": {},
   "source": [
    "### Features"
   ]
  },
  {
   "cell_type": "code",
   "execution_count": null,
   "metadata": {},
   "outputs": [],
   "source": [
    "import generators\n",
    "import definitions\n",
    "\n",
    "generators.biome.run(definitions.MC_VERSION, definitions.DATAPACKS_PATH, definitions.GENERATED_PATH)\n",
    "generators.block.run(definitions.MC_VERSION, definitions.DATAPACKS_PATH, definitions.GENERATED_PATH)"
   ]
  },
  {
   "cell_type": "markdown",
   "metadata": {},
   "source": [
    "### Metadata"
   ]
  },
  {
   "cell_type": "code",
   "execution_count": 1,
   "metadata": {},
   "outputs": [
    {
     "name": "stdout",
     "output_type": "stream",
     "text": [
      "\u001b[38;5;3m Metadata file for module 'datapacks\\Bookshelf\\data\\bs.biome' is missing optional key 'icon'. You should consider adding it.\u001b[0m\n",
      "\u001b[38;5;3m Metadata file for module 'datapacks\\Bookshelf\\data\\bs.bitwise' is missing optional key 'icon'. You should consider adding it.\u001b[0m\n",
      "\u001b[38;5;3m Metadata file for module 'datapacks\\Bookshelf\\data\\bs.block' is missing optional key 'icon'. You should consider adding it.\u001b[0m\n",
      "\u001b[38;5;3m Metadata file for module 'datapacks\\Bookshelf\\data\\bs.color' is missing optional key 'icon'. You should consider adding it.\u001b[0m\n",
      "\u001b[38;5;3m Metadata file for module 'datapacks\\Bookshelf\\data\\bs.health' is missing optional key 'icon'. You should consider adding it.\u001b[0m\n",
      "\u001b[38;5;3m Metadata file for module 'datapacks\\Bookshelf\\data\\bs.hitbox' is missing optional key 'icon'. You should consider adding it.\u001b[0m\n",
      "\u001b[38;5;3m Metadata file for module 'datapacks\\Bookshelf\\data\\bs.id' is missing optional key 'icon'. You should consider adding it.\u001b[0m\n",
      "\u001b[38;5;3m Metadata file for module 'datapacks\\Bookshelf\\data\\bs.link' is missing optional key 'icon'. You should consider adding it.\u001b[0m\n",
      "\u001b[38;5;3m Metadata file for module 'datapacks\\Bookshelf\\data\\bs.math' is missing optional key 'icon'. You should consider adding it.\u001b[0m\n",
      "\u001b[38;5;3m Metadata file for module 'datapacks\\Bookshelf\\data\\bs.move' is missing optional key 'icon'. You should consider adding it.\u001b[0m\n",
      "\u001b[38;5;3m Metadata file for module 'datapacks\\Bookshelf\\data\\bs.position' is missing optional key 'icon'. You should consider adding it.\u001b[0m\n",
      "\u001b[38;5;3m Metadata file for module 'datapacks\\Bookshelf\\data\\bs.raycast' is missing optional key 'icon'. You should consider adding it.\u001b[0m\n",
      "\u001b[38;5;3m Metadata file for module 'datapacks\\Bookshelf\\data\\bs.schedule' is missing optional key 'icon'. You should consider adding it.\u001b[0m\n",
      "\u001b[38;5;3m Metadata file for module 'datapacks\\Bookshelf\\data\\bs.sidebar' is missing optional key 'icon'. You should consider adding it.\u001b[0m\n",
      "\u001b[38;5;3m Metadata file for module 'datapacks\\Bookshelf\\data\\bs.time' is missing optional key 'icon'. You should consider adding it.\u001b[0m\n",
      "\u001b[38;5;3m Metadata file for module 'datapacks\\Bookshelf\\data\\bs.tree' is missing optional key 'icon'. You should consider adding it.\u001b[0m\n",
      "\u001b[38;5;3m Metadata file for module 'datapacks\\Bookshelf\\data\\bs.vector' is missing optional key 'icon'. You should consider adding it.\u001b[0m\n",
      "\u001b[38;5;3m Metadata file for module 'datapacks\\Bookshelf\\data\\bs.view' is missing optional key 'icon'. You should consider adding it.\u001b[0m\n",
      "\u001b[38;5;3m Metadata file for module 'datapacks\\Bookshelf\\data\\bs.weather' is missing optional key 'icon'. You should consider adding it.\u001b[0m\n",
      "\u001b[38;5;3m Metadata file for module 'datapacks\\Bookshelf\\data\\bs.xp' is missing optional key 'icon'. You should consider adding it.\u001b[0m\n",
      "\u001b[38;5;3m Metadata file for module 'datapacks\\Bookshelf Dev\\data\\bs.dump' is missing optional key 'icon'. You should consider adding it.\u001b[0m\n",
      "\u001b[38;5;1m Metadata file not found for module 'datapacks\\Bookshelf Dev\\data\\bs.log'.\u001b[0m\n"
     ]
    }
   ],
   "source": [
    "from metadata.generate_metadata import generate\n",
    "\n",
    "generate()"
   ]
  }
 ],
 "metadata": {
  "kernelspec": {
   "display_name": "Python 3",
   "language": "python",
   "name": "python3"
  },
  "language_info": {
   "codemirror_mode": {
    "name": "ipython",
    "version": 3
   },
   "file_extension": ".py",
   "mimetype": "text/x-python",
   "name": "python",
   "nbconvert_exporter": "python",
   "pygments_lexer": "ipython3",
   "version": "3.12.3"
  }
 },
 "nbformat": 4,
 "nbformat_minor": 2
}
